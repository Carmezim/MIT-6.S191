{
 "cells": [
  {
   "cell_type": "code",
   "execution_count": 190,
   "metadata": {
    "collapsed": true
   },
   "outputs": [],
   "source": [
    "import cPickle as p\n",
    "import numpy as np\n",
    "import tensorflow as tf\n",
    "import word2vec\n",
    "import random"
   ]
  },
  {
   "cell_type": "markdown",
   "metadata": {},
   "source": [
    "# NLP Lab, Part I\n",
    "\n",
    "Welcome to the first lab of 6.S191!\n",
    "\n",
    "### Administrivia\n",
    "Things to install:\n",
    "- [tensorflow](https://www.tensorflow.org/get_started/os_setup)\n",
    "- [word2vec](https://github.com/danielfrg/word2vec)\n",
    "\n",
    "### Lab Objectives:\n",
    "-  Learn Machine Learning methodology basics (train/dev/test sets)\n",
    "-  Learn some Natural Language Processing basics (word embeddings with word2vec) \n",
    "-  Learn the basics of tensorflow, build your first deep neural nets (MLP, RNN) and get results!\n",
    "\n",
    "\n",
    "\n",
    "And we'll be doing all of this in te context of Twitter sentiment analysis. Given a tweet like:\n",
    "```\n",
    "omg 6.S196 is so cool #deeplearning #mit\n",
    "```\n",
    "We want an algorithm to label this tweet as positive or negative. It's intractable to try to solve this task via some lexical rules, so instead, we're going to use deep learning to embed these tweets into some deep latent space where distinguishing between the two is realtively simple.\n",
    "\n",
    "## Machine Learning Basics\n",
    "Given some dataset with tweets $X$, and sentiments $Y$, we want to learn a function $f$, such that $Y = f(X)$.\n",
    "In our context, $f$ is deep neural network parameterized by some network weights $\\Theta$, and  we're going to do our learning via gradient descent. \n",
    "\n",
    "### Objective Function\n",
    "To start, we need someway to measure how good our $f$ is, so we can take a gradient in respective to that performance and move in the right direction. We call this performance evaluation our Loss function, L , and this is something we want to minimize. \n",
    "\n",
    "Since we are doing classification (pos vs neg), a common loss function  to use is cross entropy.\n",
    "$$L( \\Theta ) = - \\Sigma_i ( f(x_i)*log(y_i) + (1-f(x_i))log(1-y_i) ) $$ where $f(x)$ is the probablity a tweet $x$ is positive, which we want to be 1 given it's postive and 0 given that it's negative and $y$ is the correct answer. We can access this function with `tf.nn.sigmoid_cross_entropy_with_logits`, which will come handy in code. Given that $f$ is parameterized by $\\Theta$, we can take the gradient $\\frac{dL}{d\\Theta}$, and we learn by updating our parameters to minimize the loss.\n",
    "\n",
    "Note that this loss is 0 if the prediction is correct and very large if we predict something has 0 probablity of being positive when it is positive.\n",
    "\n",
    "\n",
    "### Methodology\n",
    "To measure how well we're doing, we can't just look at how well our model performs on it's training data. It could be just memorizing the training data and perform terribly on data it hasn't seen before. To really measure how $f$ performs in the wild, we need to present it with unseen data, and we can tune our hyper-parameters (like learning rate, num layers etc.) over this first unseen set, which we call our development (or validation) set. However, given that we optimized our hyper-parameters to the development set, to get a true fair assesment of the model, we test it in respect to a held-out test set at the end, and generaly report those numbers.\n",
    "\n",
    "In summary:\n",
    "Namely, we training on one set, i.e. a training set,\n",
    "evaluate and tune our hyper paremeters in regards to our performance on the dev set,\n",
    "and report finals results on a completely heldout test set. \n",
    "\n",
    "Let's load these now, this ratio of sizes if fairly standard.\n",
    "\n"
   ]
  },
  {
   "cell_type": "code",
   "execution_count": 202,
   "metadata": {
    "collapsed": false
   },
   "outputs": [
    {
     "data": {
      "text/plain": [
       "(60000, 20000, 20000)"
      ]
     },
     "execution_count": 202,
     "metadata": {},
     "output_type": "execute_result"
    },
    {
     "name": "stdout",
     "output_type": "stream",
     "text": [
      "\n"
     ]
    }
   ],
   "source": [
    "trainSet = p.load( open('data/train.p','rb'))\n",
    "devSet = p.load( open('data/dev.p','rb'))\n",
    "testSet = p.load( open('data/test.p','rb'))\n",
    "\n",
    "## Let's look at the size of what we have here. Note, we could use a much larger train set, \n",
    "## but we keep it mid-size so you can run this whole thing off your laptop\n",
    "len(trainSet), len(devSet), len(testSet)\n"
   ]
  },
  {
   "cell_type": "markdown",
   "metadata": {},
   "source": [
    "## NLP Basics\n",
    "The first question we need to address is how do we represent a tweet? how do we represent a word?\n",
    "One way to do this is with one_hot vectors for each word. Where a given word $w_i= [0,0,...,1,..0]$.\n",
    "However, in this representation, words like \"love\" and \"adore\" are as similar as \"love\" and \"hate\", because the cosine similarity is 0 in both cases. Another issue is that these vectors are huge in order to represent the whole vocab. To get around this issue the NLP community developed a techique called Word Embeddings. \n",
    "\n",
    "## Word2Vec\n",
    "\n",
    "The basic idea is we represent a word with a vector $\\phi$ by the context the word  appears in. By training a neural network to predict the context of words across a large training set, we can use the weights of that neural networks to get a dense, and useful representation that captures context. Word Embeddings capture all kinds of useful semantic relationships. For example, one cool emergent property is $ \\phi(king) - \\phi(queen) = \\phi(man) - \\phi(woman)$. To learn more about the magic behind word embeddings we recommend Chris Colahs \"[blog post](https://colah.github.io/posts/2014-07-NLP-RNNs-Representations/)\". A common tool for generating Word Embeddings is word2vec, which is what we'll be using today."
   ]
  },
  {
   "cell_type": "code",
   "execution_count": 206,
   "metadata": {
    "collapsed": false
   },
   "outputs": [
    {
     "name": "stdout",
     "output_type": "stream",
     "text": [
      "finally back twitterberry messed up my phone lets try this one out padtoken padtoken padtoken padtoken padtoken padtoken padtoken padtoken\n",
      "Starting training using file data/trainSentences.p\n",
      "Vocab size: 7597\n",
      "Words in train file: 1326930\n",
      "Alpha: 0.000042  Progress: 99.99%  Words/thread/sec: 503.89k  [u'</s>' u'padtoken' u'unktoken' ..., u'fart' u'nonstop' u'gue']\n"
     ]
    }
   ],
   "source": [
    "## Note, these tweets were preprocessings to remove non alphanumeric chars, replace unfrequent words, and padded to same length.\n",
    "## Note, we're going to train our embeddings on only our train set in order to keep our dev/test tests fair \n",
    "trainSentences = [\" \".join(tweetPair[0]) for tweetPair in trainSet]\n",
    "print trainSentences[0]\n",
    "p.dump(trainSentences, open('data/trainSentences.p','wb'))\n",
    "## Word2vec module expects a file containing a list of strings, a target to store the model, and then the size of the\n",
    "## embedding vector\n",
    "word2vec.word2vec('data/trainSentences.p','data/emeddings.bin', 100, verbose=True)\n",
    "\n",
    "w2vModel = word2vec.load('data/emeddings.bin')\n",
    "print w2vModel.vocab"
   ]
  },
  {
   "cell_type": "code",
   "execution_count": 207,
   "metadata": {
    "collapsed": false
   },
   "outputs": [
    {
     "name": "stdout",
     "output_type": "stream",
     "text": [
      "embedding for the word fun [ 0.02739932 -0.06195362 -0.02174884 -0.16449896  0.0113832   0.05549333\n",
      "  0.15455414 -0.15823498  0.00534459  0.14625058  0.19411038  0.06777722\n",
      " -0.12640333 -0.01663971  0.00228494 -0.04999322  0.21230859  0.11675727\n",
      " -0.02723708  0.090425   -0.07684573 -0.03013001  0.15054527  0.19291012\n",
      "  0.15725572  0.03772355 -0.03657226 -0.0596232   0.02194676  0.00029824\n",
      " -0.00298259 -0.0167528  -0.00211832  0.09068366 -0.06469334  0.01311877\n",
      " -0.00739915 -0.07736088  0.10405199  0.0827125   0.07532453 -0.05642802\n",
      "  0.01675165 -0.1692307   0.00315937  0.04331524 -0.03228528  0.00192614\n",
      "  0.15636554 -0.10258818 -0.03600844 -0.17567421  0.04040479  0.00313568\n",
      "  0.13499634 -0.0862968   0.11669343 -0.09716116  0.11241419  0.00813499\n",
      " -0.18653914 -0.10887115 -0.07146084  0.05805456 -0.07779012  0.01769644\n",
      "  0.09540395  0.05453155  0.13957299  0.11317214 -0.07434633 -0.00324123\n",
      "  0.15098293 -0.07858422  0.08103402  0.08550779 -0.06233279 -0.05078358\n",
      "  0.00469909  0.14089508  0.05289229 -0.13117778  0.06547305  0.17320769\n",
      "  0.14908808  0.0870463   0.09451518  0.08013666  0.18811567 -0.05976165\n",
      "  0.11511379  0.11410256 -0.10913139 -0.04317797 -0.05894752 -0.04362189\n",
      " -0.03782897  0.15169522 -0.18289736  0.19401944]\n"
     ]
    }
   ],
   "source": [
    "## Each word looks something like represented by a 100 dimension vector like this\n",
    "print \"embedding for the word fun\", w2vModel['fun']"
   ]
  },
  {
   "cell_type": "markdown",
   "metadata": {},
   "source": [
    "Now lets look at the words most similar to the word \"fun\""
   ]
  },
  {
   "cell_type": "code",
   "execution_count": 208,
   "metadata": {
    "collapsed": false
   },
   "outputs": [
    {
     "name": "stdout",
     "output_type": "stream",
     "text": [
      "[u'nice' u'great' u'lovely' u'busy' u\"fun'\" u'wonderful' u'enjoyable'\n",
      " u'boring' u'storming' u'gr8']\n"
     ]
    }
   ],
   "source": [
    "indices, cosineSim = w2vModel.cosine('fun')\n",
    "print w2vModel.vocab[indices]\n",
    "\n",
    "word_embeddings = w2vModel.vectors\n",
    "vocab_size = len(w2vModel.vocab)"
   ]
  },
  {
   "cell_type": "markdown",
   "metadata": {},
   "source": [
    "Feel free to play around here test the properties of your embeddings, how they cluster etc. In the interest of time, we're going to move on straight to models.\n",
    " \n",
    "Now in order to use these embeddings, we have to represent each tweet as a list of indices into the embedding matrix.\n",
    "This preprocessing code is available in processing.py if you are interested. \n",
    " \n",
    "## Tensorflow Basics\n",
    "Tensorflow is a hugely popular library for building neural nets. The general workflow in building models in tensorflow is as follows:\n",
    "- Specify a computation graph (The struture and computations of your neural net)\n",
    "- Use your session to feed data into the graph and fetch things from the graph (like the loss, and train operation)\n",
    "Inside the graph, we put our neural net, our loss function, and our optimizer and once this is constructed, we can feed in the data, fetch the loss and the train op to train it.\n",
    "\n",
    "Here is a toy example putting 2 and 2 together, and initializing some random weight matrix. "
   ]
  },
  {
   "cell_type": "code",
   "execution_count": 209,
   "metadata": {
    "collapsed": false
   },
   "outputs": [
    {
     "name": "stdout",
     "output_type": "stream",
     "text": [
      "4\n",
      "[[-0.17049156 -0.24742639]\n",
      " [-0.84466755 -0.52191824]]\n"
     ]
    }
   ],
   "source": [
    "session = tf.Session()\n",
    "# 1.BUILD GRAPH\n",
    "# Set placeholders with a type for data you'll eventually feed in (like tweets and sentiments)\n",
    "a = tf.placeholder(tf.int32)\n",
    "b = tf.placeholder(tf.int32)\n",
    "# Set up variables, like weight matrices. \n",
    "# Using tf.get_variable, specify the name, shape, type and initliazer of the variable.\n",
    "W = tf.get_variable(\"ExampleMatrix\", [2, 2], tf.float32, tf.random_normal_initializer(stddev=1.0 / 2))\n",
    "# Set up the operations you need, like matrix multiplications, non-linear layers, and your loss function minimizer\n",
    "c = a*b\n",
    "# 2.RUN GRAPH\n",
    "# Initialize any variables you have (just W in this case)\n",
    "tf.global_variables_initializer().run(session=session)\n",
    "# Specify the values tensor you want returned, and ops you want run\n",
    "fetch = {'c':c, 'W':W}\n",
    "# Fill in the place holders\n",
    "feed_dict = {\n",
    "    a: 2,\n",
    "    b: 2,\n",
    "}\n",
    "# Run and get back fetch filled in\n",
    "results = session.run( fetch, feed_dict = feed_dict)\n",
    "\n",
    "print( results['c'])\n",
    "print( results['W'])\n",
    "# Close session\n",
    "session.close()\n",
    "# Reset the graph so it doesn't get in the way later\n",
    "tf.reset_default_graph()"
   ]
  },
  {
   "cell_type": "markdown",
   "metadata": {
    "collapsed": true
   },
   "source": [
    "### Building an MLP\n",
    "\n",
    "MLP or Multi-layer perceptron is a basic archetecture where where we multiply our representation with some matrix `W` and add some bias `b` and then apply some nonlineanity like `tanh` at each layer. Layers are fully connected to the next. As the network gets deeper, it's expressive power grows exponentially and so they can draw some pretty fancy decision boundaries. In this exercise, you'll build your own MLP, with 1 hidden layer (layer that isn't input or output), with 100 dimensions.\n",
    "\n",
    "To make training more stable and efficient, we'll do this we'll actually evalaute 20 tweets at a time, and take gradients and respect to the loss on the 20. We call this idea training with mini-batches.\n",
    "### Defining the Graph\n",
    "#### Step 1: Placeholders, Variables with specified shapes\n",
    "- Let start off with placeholders for our tweets, and lets use a minibatch of size 20.\n",
    "Remember each tweet is will be represented as a vector of `sentence length` (20) word_ids , and since we are packing `mini-batch size` number of tweets in the graph a time tweets per iteration, we need a matrix of `minibatch * sentence length `. Feel free to check out the placeholder api [here](https://www.tensorflow.org/api_docs/python/io_ops/placeholders#placeholder)\n",
    "- Set up a placeholder for your labels, namely the `mini-batch size` length vector of sentiments.\n",
    "- Set up a placeholder for our pretrained word embeddings. This will take shape `vocab_size * embedding_size`\n",
    "- Set up a variable for your weight matrix, and bias. Check out the variable api [here](https://www.tensorflow.org/api_docs/python/state_ops/variables) Let's use a hidden dimension size of 100 (so 100 neurons in the next layer) \n",
    "For the Weight matrix, use tf.random_normal_initializer(stddev=1.0 / hidden_dim_size), as this does something called symetry breaking and keeps the neural network from getting stuck at the start.\n",
    "For the bias vector, use tf.constant_initializer(0)"
   ]
  },
  {
   "cell_type": "code",
   "execution_count": 213,
   "metadata": {
    "collapsed": false
   },
   "outputs": [
    {
     "data": {
      "text/plain": [
       "'TODO'"
      ]
     },
     "execution_count": 213,
     "metadata": {},
     "output_type": "execute_result"
    }
   ],
   "source": [
    "\"TODO\""
   ]
  },
  {
   "cell_type": "markdown",
   "metadata": {},
   "source": [
    "#### Step 2: Putting in the Operations \n",
    "- Load the word embeddings for the word ids. You can do this using tf.nn.embedding_lookup. Remember to use your embeddings placeholder. You should end up with a Tensor of dimensions `batch_size * sentence_length * embedding size`.\n",
    "- To represent a whole tweet, let's use a neural bag of words. This means we represent each tweet by the words that occur in it; it's a basic representation but gets us pretty far. To do this in a neural way, we can just average the embeddings in the tweet, leaving a single vector of `embedding size` for each tweet. You should end up with a Tensor of dimensions `batch_size * embedding size`.\n",
    "- Apply projection to the hidden layer of size 100 (ie. multiply the input by a weight vector and add a bias )\n",
    "- Apply a nonlinearity like `tf.tanh`\n",
    "- Project this to the output layer of size 1 (ie. multiply the input by a wieght vector and add a bias). Put this in a python variable called logits.\n",
    " "
   ]
  },
  {
   "cell_type": "code",
   "execution_count": 214,
   "metadata": {
    "collapsed": false
   },
   "outputs": [
    {
     "data": {
      "text/plain": [
       "'TODO'"
      ]
     },
     "execution_count": 214,
     "metadata": {},
     "output_type": "execute_result"
    }
   ],
   "source": [
    "\"TODO\""
   ]
  },
  {
   "cell_type": "markdown",
   "metadata": {},
   "source": [
    "- Set up loss function, and optimizer to minimize it. We'll be using Adam as our optimizer"
   ]
  },
  {
   "cell_type": "code",
   "execution_count": 215,
   "metadata": {
    "collapsed": false
   },
   "outputs": [],
   "source": [
    "## Make sure to call your output embedding logits, and your sentiments placeholder sentiments in python\n",
    "loss = tf.nn.sigmoid_cross_entropy_with_logits(logits, sentiments)\n",
    "loss = tf.reduce_sum(loss)\n",
    "optimizer = tf.train.AdamOptimizer(1e-2).minimize(loss)"
   ]
  },
  {
   "cell_type": "markdown",
   "metadata": {},
   "source": [
    "### Run the Graph\n",
    "#### Step 3: Set up training, and fetch optimizer at each iteration to train the model\n",
    "- First initialize all variables as in the toy example\n",
    "- Sample 20 random tweet,sentiment pairs for our feed_dict dictionary. Remember to feed in the embedding matrix.\n",
    "- fetch dictionary, the ops we want to run and tensors we want back\n",
    "- Execute this many times to train"
   ]
  },
  {
   "cell_type": "code",
   "execution_count": 184,
   "metadata": {
    "collapsed": false
   },
   "outputs": [
    {
     "name": "stdout",
     "output_type": "stream",
     "text": [
      "('Iteration', 0, 'Loss', 13.86216)\n",
      "('Iteration', 500, 'Loss', 11.728893522262574)\n",
      "('Iteration', 1000, 'Loss', 11.927853281974793)\n",
      "('Iteration', 1500, 'Loss', 11.440789708137512)\n",
      "('Iteration', 2000, 'Loss', 11.733890412330627)\n",
      "('Iteration', 2500, 'Loss', 11.876432689666748)\n",
      "('Iteration', 3000, 'Loss', 11.315906629562377)\n",
      "('Iteration', 3500, 'Loss', 11.482173993110656)\n",
      "('Iteration', 4000, 'Loss', 11.288390522003175)\n",
      "('Iteration', 4500, 'Loss', 12.245812825202941)\n"
     ]
    }
   ],
   "source": [
    "trainSet = p.load( open('data/trainTweets_preprocessed.p','rb'))\n",
    "random.shuffle(trainSet)\n",
    "\n",
    "\" TODO Init vars\"\n",
    "\n",
    "losses = []\n",
    "for i in range(5000):\n",
    "    trainTweet = np.array(  [ t[0] for t in trainSet[i: i+ minibatch_size]])\n",
    "    trainLabels = np.array( [int(t[1]) for t in trainSet[i: i+ minibatch_size] ])\n",
    "    \n",
    "    results = \"TODO, run graph with data\"\n",
    "    losses.append(results['loss'])\n",
    "    if i % 500 == 0:\n",
    "        print(\"Iteration\",i,\"Loss\", sum(losses[-500:-1])/500. if i > 0 else losses[-1])\n",
    "    "
   ]
  },
  {
   "cell_type": "markdown",
   "metadata": {},
   "source": [
    "#### Step 4: Check validation results, and tune\n",
    "- Try running the graph on validation data, without fetching the train op.\n",
    "- See how the results compare. If the train loss is much lower than the development loss, we may be overfitting. If the train loss is still high, try experimenting with the model archetecture to increase it's capacity."
   ]
  },
  {
   "cell_type": "code",
   "execution_count": 186,
   "metadata": {
    "collapsed": false
   },
   "outputs": [
    {
     "name": "stdout",
     "output_type": "stream",
     "text": [
      "('Dev Loss', 13.220003290176392)\n"
     ]
    }
   ],
   "source": [
    "validationSet = p.load( open('data/devTweets_preprocessed.p','rb'))\n",
    "random.shuffle(validationSet)\n",
    "\n",
    "losses = []\n",
    "for i in range(20000/20):\n",
    "    valTweet = np.array(  [ t[0] for t in validationSet[i: i+ minibatch_size]])\n",
    "    valLabels = np.array( [int(t[1]) for t in validationSet[i: i+ minibatch_size] ])\n",
    "\n",
    "    results = \"TODO\" \n",
    "    losses.append(results['loss'])\n",
    "print(\"Dev Loss\", sum(losses)*1./len(losses))"
   ]
  },
  {
   "cell_type": "markdown",
   "metadata": {},
   "source": [
    "#### Future Steps:\n",
    "Things to try on your own:\n",
    "- Adding in a tensor for accuracy, and log it at each step.\n",
    "- Iterate over whole validation dataset to get more stable validation score\n",
    "- Try tensorboard and graphing accuracy over both sets time.\n",
    "- experiment with different archetectures that maximize validation score. Maybe bag of words, which doesn't distinguish between \"bad not good\" and \"good not bad\" isn't a good enough representation. \n",
    "- test it on the test data\n",
    "- Do the RNN tutorial!\n",
    "# Solutions!\n",
    "Do not look unless you really have to. Ask TA's for help first. Fight for the intuition, you'll get more out of it. "
   ]
  },
  {
   "cell_type": "code",
   "execution_count": 212,
   "metadata": {
    "collapsed": false
   },
   "outputs": [
    {
     "name": "stdout",
     "output_type": "stream",
     "text": [
      "('Iteration', 0, 'Loss', 13.865759)\n",
      "('Iteration', 500, 'Loss', 13.850158506393432)\n",
      "('Iteration', 1000, 'Loss', 13.583849094390869)\n",
      "('Iteration', 1500, 'Loss', 12.831425987243652)\n",
      "('Iteration', 2000, 'Loss', 12.317071950912476)\n",
      "('Iteration', 2500, 'Loss', 11.794303876876832)\n",
      "('Iteration', 3000, 'Loss', 12.680396286010742)\n",
      "('Iteration', 3500, 'Loss', 12.530222269058228)\n",
      "('Iteration', 4000, 'Loss', 12.272984921455384)\n",
      "('Iteration', 4500, 'Loss', 12.515208539962769)\n",
      "('Dev Loss', 12.61152536869049)\n"
     ]
    }
   ],
   "source": [
    "# Step 1:\n",
    "tf.reset_default_graph()\n",
    "session = tf.Session()\n",
    "\n",
    "\n",
    "minibatch_size = 20\n",
    "tweet_length = 20\n",
    "embedding_size = 100\n",
    "hidden_dim_size = 100\n",
    "output_size = 1\n",
    "init_bias = 0\n",
    "\n",
    "tweets          = tf.placeholder(tf.int32, shape=[minibatch_size,tweet_length])\n",
    "sentiments      = tf.placeholder(tf.float32, shape=[minibatch_size])\n",
    "embeddingMatrix = tf.placeholder(tf.float32, shape =[vocab_size, embedding_size] )\n",
    "W_hidden = tf.get_variable(\"W_hidden\", [embedding_size, hidden_dim_size], tf.float32, tf.random_normal_initializer(stddev=1.0 / hidden_dim_size))\n",
    "b_hidden = tf.get_variable(\"b_hidden\", [hidden_dim_size], initializer=tf.constant_initializer(init_bias))\n",
    "W_output = tf.get_variable(\"W_output\", [hidden_dim_size, output_size], tf.float32, tf.random_normal_initializer(stddev=1.0 / hidden_dim_size))\n",
    "b_output = tf.get_variable(\"b_output\", [output_size], initializer=tf.constant_initializer(init_bias))\n",
    "\n",
    "# Step 2:\n",
    "tweet_embedded =  tf.nn.embedding_lookup(embeddingMatrix, tweets)\n",
    "averagedTweets = tf.reduce_mean(tweet_embedded, axis=1)\n",
    "hidden_proj = tf.matmul( averagedTweets, W_hidden) + b_hidden\n",
    "non_linearity = tf.nn.tanh(hidden_proj)\n",
    "logits = tf.matmul( non_linearity,  W_output)+ b_output\n",
    "logits = tf.reshape(logits, shape=[minibatch_size])\n",
    "\n",
    "## Make sure to call your output embedding logits, and your sentiments placeholder sentiments in python\n",
    "loss = tf.nn.sigmoid_cross_entropy_with_logits(logits, sentiments)\n",
    "loss = tf.reduce_sum(loss)\n",
    "optimizer = tf.train.AdamOptimizer().minimize(loss)\n",
    "\n",
    "# Step 3:\n",
    "trainSet = p.load( open('data/trainTweets_preprocessed.p','rb'))\n",
    "random.shuffle(trainSet)\n",
    "\n",
    "tf.global_variables_initializer().run(session=session)\n",
    "\n",
    "losses = []\n",
    "for i in range(5000):\n",
    "    trainTweet = np.array(  [ t[0] for t in trainSet[i: i+ minibatch_size]])\n",
    "    trainLabels = np.array( [int(t[1]) for t in trainSet[i: i+ minibatch_size] ])\n",
    "    \n",
    "    feed_dict = {\n",
    "        embeddingMatrix: word_embeddings,\n",
    "        tweets: trainTweet,\n",
    "        sentiments: trainLabels\n",
    "    }\n",
    "    fetch = {\n",
    "        'loss': loss,\n",
    "        'trainOp': optimizer\n",
    "    }\n",
    "    results = session.run(fetch, feed_dict=feed_dict)\n",
    "    losses.append(results['loss'])\n",
    "    if i % 500 == 0:\n",
    "        print(\"Iteration\",i,\"Loss\", sum(losses[-500:-1])/500. if i > 0 else losses[-1])\n",
    "    \n",
    "\n",
    "# Step 4:\n",
    "validationSet = p.load( open('data/devTweets_preprocessed.p','rb'))\n",
    "random.shuffle(validationSet)\n",
    "\n",
    "losses = []\n",
    "for i in range(20000/20):\n",
    "    valTweet = np.array(  [ t[0] for t in validationSet[i: i+ minibatch_size]])\n",
    "    valLabels = np.array( [int(t[1]) for t in validationSet[i: i+ minibatch_size] ])\n",
    "    feed_dict = {\n",
    "        embeddingMatrix: word_embeddings,\n",
    "        tweets: valTweet,\n",
    "        sentiments: valLabels\n",
    "    }\n",
    "    fetch = {\n",
    "        'loss': loss,\n",
    "    }\n",
    "    results = session.run(fetch, feed_dict=feed_dict)\n",
    "    losses.append(results['loss'])\n",
    "print(\"Dev Loss\", sum(losses)*1./len(losses))"
   ]
  },
  {
   "cell_type": "code",
   "execution_count": null,
   "metadata": {
    "collapsed": true
   },
   "outputs": [],
   "source": []
  }
 ],
 "metadata": {
  "anaconda-cloud": {},
  "kernelspec": {
   "display_name": "Python [conda root]",
   "language": "python",
   "name": "conda-root-py"
  },
  "language_info": {
   "codemirror_mode": {
    "name": "ipython",
    "version": 2
   },
   "file_extension": ".py",
   "mimetype": "text/x-python",
   "name": "python",
   "nbconvert_exporter": "python",
   "pygments_lexer": "ipython2",
   "version": "2.7.12"
  }
 },
 "nbformat": 4,
 "nbformat_minor": 1
}
